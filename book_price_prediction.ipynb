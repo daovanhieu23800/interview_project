{
 "cells": [
  {
   "cell_type": "code",
   "execution_count": 1,
   "metadata": {},
   "outputs": [],
   "source": [
    "import pandas as pd\n",
    "import numpy as np\n",
    "from sklearn.model_selection import train_test_split\n",
    "np.random.seed(42)"
   ]
  },
  {
   "attachments": {},
   "cell_type": "markdown",
   "metadata": {},
   "source": [
    "# Table of Contents :\n",
    "* [1. Problem Introduction](#section1)\n",
    "* [2. Sampling](#section2)\n",
    "* [3. Feature engineering](#section3)\n",
    "    -  [Target Encodeing](#section31)\n",
    "    -  [Scaling](#section32)\n",
    "* [4. Modelling](#section4)\n",
    "    -  [Linear regression](#section41)\n",
    "    -  [Random Forest](#section42)\n",
    "* [5. Fine Tune Model](#section5)\n",
    "    -  [Random Seacrh](#section51)\n",
    "\n",
    "\n",
    "\n"
   ]
  },
  {
   "attachments": {},
   "cell_type": "markdown",
   "metadata": {},
   "source": [
    "<a id=\"section1\"></a>\n",
    "# Problem Introduction : \n",
    "Book price prediction is a task that involves estimating the price of a book based on various factors such as its attributes, market conditions, and historical data. It can be approached as a regression problem, where the goal is to build a predictive model that can accurately predict the price of a book given its features.\n"
   ]
  },
  {
   "cell_type": "code",
   "execution_count": 2,
   "metadata": {},
   "outputs": [
    {
     "name": "stdout",
     "output_type": "stream",
     "text": [
      "(3830, 16)\n"
     ]
    },
    {
     "data": {
      "text/plain": [
       "Index(['id', 'name', 'price', 'original_price', 'discount', 'discount_rate',\n",
       "       'rating_average', 'review_count', 'short_description',\n",
       "       'all_time_quantity_sold', 'authors', 'categories', 'publisher_vn',\n",
       "       'book_cover', 'number_of_page', 'manufacturer'],\n",
       "      dtype='object')"
      ]
     },
     "execution_count": 2,
     "metadata": {},
     "output_type": "execute_result"
    }
   ],
   "source": [
    "book_df = pd.read_csv('cleaned_book.csv')\n",
    "print(book_df.shape)\n",
    "book_df.columns"
   ]
  },
  {
   "cell_type": "code",
   "execution_count": 3,
   "metadata": {},
   "outputs": [],
   "source": [
    "X = book_df[['categories', 'publisher_vn','book_cover', 'number_of_page', 'manufacturer']]\n",
    "y = book_df[['original_price']]\n",
    "test_size = 0.2\n",
    "random_state = 42\n",
    "X_train, X_test, y_train, y_test = train_test_split(X, y, test_size=test_size, random_state=random_state)\n"
   ]
  },
  {
   "cell_type": "code",
   "execution_count": 4,
   "metadata": {},
   "outputs": [
    {
     "name": "stdout",
     "output_type": "stream",
     "text": [
      "(3830, 5) Index(['categories', 'publisher_vn', 'book_cover', 'number_of_page',\n",
      "       'manufacturer'],\n",
      "      dtype='object')\n",
      "(3830, 1) Index(['original_price'], dtype='object')\n",
      "(3064, 5) Index(['categories', 'publisher_vn', 'book_cover', 'number_of_page',\n",
      "       'manufacturer'],\n",
      "      dtype='object')\n",
      "(3064, 1) Index(['original_price'], dtype='object')\n"
     ]
    }
   ],
   "source": [
    "print(X.shape, X.columns)\n",
    "print(y.shape, y.columns)\n",
    "print(X_train.shape, X_train.columns)\n",
    "print(y_train.shape, y_train.columns)"
   ]
  },
  {
   "attachments": {},
   "cell_type": "markdown",
   "metadata": {},
   "source": [
    "<a id=\"section31\"></a>\n",
    "## Target Encodeing: \n"
   ]
  },
  {
   "cell_type": "code",
   "execution_count": 5,
   "metadata": {},
   "outputs": [
    {
     "data": {
      "text/html": [
       "<div>\n",
       "<style scoped>\n",
       "    .dataframe tbody tr th:only-of-type {\n",
       "        vertical-align: middle;\n",
       "    }\n",
       "\n",
       "    .dataframe tbody tr th {\n",
       "        vertical-align: top;\n",
       "    }\n",
       "\n",
       "    .dataframe thead th {\n",
       "        text-align: right;\n",
       "    }\n",
       "</style>\n",
       "<table border=\"1\" class=\"dataframe\">\n",
       "  <thead>\n",
       "    <tr style=\"text-align: right;\">\n",
       "      <th></th>\n",
       "      <th>categories</th>\n",
       "      <th>publisher_vn</th>\n",
       "      <th>book_cover</th>\n",
       "      <th>number_of_page</th>\n",
       "      <th>manufacturer</th>\n",
       "    </tr>\n",
       "  </thead>\n",
       "  <tbody>\n",
       "    <tr>\n",
       "      <th>3142</th>\n",
       "      <td>Tin Học Văn Phòng</td>\n",
       "      <td>Thái Hà</td>\n",
       "      <td>Bìa mềm</td>\n",
       "      <td>360</td>\n",
       "      <td>Nhà Xuất Bản Công Thương</td>\n",
       "    </tr>\n",
       "    <tr>\n",
       "      <th>3263</th>\n",
       "      <td>Sách Y Học</td>\n",
       "      <td>Thái Hà</td>\n",
       "      <td>Bìa mềm</td>\n",
       "      <td>264</td>\n",
       "      <td>Nhà Xuất Bản Công Thương</td>\n",
       "    </tr>\n",
       "    <tr>\n",
       "      <th>829</th>\n",
       "      <td>Sách Kiến Thức - Kỹ Năng Cho Trẻ</td>\n",
       "      <td>Tân Việt</td>\n",
       "      <td>Bìa mềm</td>\n",
       "      <td>31</td>\n",
       "      <td>Nhà Xuất Bản Mỹ Thuật</td>\n",
       "    </tr>\n",
       "    <tr>\n",
       "      <th>700</th>\n",
       "      <td>Sách nghệ thuật sống đẹp</td>\n",
       "      <td>Công ty cổ phần Ahora</td>\n",
       "      <td>Bìa mềm</td>\n",
       "      <td>556</td>\n",
       "      <td>Nhà Xuất Bản Thế Giới</td>\n",
       "    </tr>\n",
       "    <tr>\n",
       "      <th>3779</th>\n",
       "      <td>Sách tiếng Việt</td>\n",
       "      <td>Công ty Sách Bảo Trang</td>\n",
       "      <td>Bìa mềm</td>\n",
       "      <td>192</td>\n",
       "      <td>Nhà Xuất Bản Tri Thức</td>\n",
       "    </tr>\n",
       "    <tr>\n",
       "      <th>...</th>\n",
       "      <td>...</td>\n",
       "      <td>...</td>\n",
       "      <td>...</td>\n",
       "      <td>...</td>\n",
       "      <td>...</td>\n",
       "    </tr>\n",
       "    <tr>\n",
       "      <th>1130</th>\n",
       "      <td>Sách Học Tiếng Anh</td>\n",
       "      <td>Zenbooks</td>\n",
       "      <td>Bìa mềm</td>\n",
       "      <td>327</td>\n",
       "      <td>Nhà Xuất Bản Đà Nẵng</td>\n",
       "    </tr>\n",
       "    <tr>\n",
       "      <th>1294</th>\n",
       "      <td>Sách tham khảo cấp III</td>\n",
       "      <td>Cty Sách Sách Hay</td>\n",
       "      <td>Bìa mềm</td>\n",
       "      <td>204</td>\n",
       "      <td>Nhà Xuất Bản Đại Học Quốc Gia Hà Nội</td>\n",
       "    </tr>\n",
       "    <tr>\n",
       "      <th>860</th>\n",
       "      <td>Sách Làm Cha Mẹ</td>\n",
       "      <td>Đinh Tị</td>\n",
       "      <td>Bìa mềm</td>\n",
       "      <td>396</td>\n",
       "      <td>Nhà Xuất Bản Thanh Niên</td>\n",
       "    </tr>\n",
       "    <tr>\n",
       "      <th>3507</th>\n",
       "      <td>Sách Tâm Lý Tuổi Teen</td>\n",
       "      <td>First News - Trí Việt</td>\n",
       "      <td>Bìa mềm</td>\n",
       "      <td>152</td>\n",
       "      <td>Nhà Xuất Bản Tổng Hợp</td>\n",
       "    </tr>\n",
       "    <tr>\n",
       "      <th>3174</th>\n",
       "      <td>Thiết Kế - Đồ Họa</td>\n",
       "      <td>Công Ty Cổ Phần Phát Triển Giáo Dục Ngọc Hà</td>\n",
       "      <td>Bìa mềm</td>\n",
       "      <td>120</td>\n",
       "      <td>Nhà Xuất Bản Đại Học Quốc Gia Hà Nội</td>\n",
       "    </tr>\n",
       "  </tbody>\n",
       "</table>\n",
       "<p>3064 rows × 5 columns</p>\n",
       "</div>"
      ],
      "text/plain": [
       "                            categories  \\\n",
       "3142                 Tin Học Văn Phòng   \n",
       "3263                        Sách Y Học   \n",
       "829   Sách Kiến Thức - Kỹ Năng Cho Trẻ   \n",
       "700           Sách nghệ thuật sống đẹp   \n",
       "3779                   Sách tiếng Việt   \n",
       "...                                ...   \n",
       "1130                Sách Học Tiếng Anh   \n",
       "1294            Sách tham khảo cấp III   \n",
       "860                    Sách Làm Cha Mẹ   \n",
       "3507             Sách Tâm Lý Tuổi Teen   \n",
       "3174                 Thiết Kế - Đồ Họa   \n",
       "\n",
       "                                     publisher_vn book_cover  number_of_page  \\\n",
       "3142                                      Thái Hà    Bìa mềm             360   \n",
       "3263                                      Thái Hà    Bìa mềm             264   \n",
       "829                                      Tân Việt    Bìa mềm              31   \n",
       "700                         Công ty cổ phần Ahora    Bìa mềm             556   \n",
       "3779                       Công ty Sách Bảo Trang    Bìa mềm             192   \n",
       "...                                           ...        ...             ...   \n",
       "1130                                     Zenbooks    Bìa mềm             327   \n",
       "1294                            Cty Sách Sách Hay    Bìa mềm             204   \n",
       "860                                       Đinh Tị    Bìa mềm             396   \n",
       "3507                        First News - Trí Việt    Bìa mềm             152   \n",
       "3174  Công Ty Cổ Phần Phát Triển Giáo Dục Ngọc Hà    Bìa mềm             120   \n",
       "\n",
       "                              manufacturer  \n",
       "3142              Nhà Xuất Bản Công Thương  \n",
       "3263              Nhà Xuất Bản Công Thương  \n",
       "829                  Nhà Xuất Bản Mỹ Thuật  \n",
       "700                  Nhà Xuất Bản Thế Giới  \n",
       "3779                 Nhà Xuất Bản Tri Thức  \n",
       "...                                    ...  \n",
       "1130                  Nhà Xuất Bản Đà Nẵng  \n",
       "1294  Nhà Xuất Bản Đại Học Quốc Gia Hà Nội  \n",
       "860                Nhà Xuất Bản Thanh Niên  \n",
       "3507                 Nhà Xuất Bản Tổng Hợp  \n",
       "3174  Nhà Xuất Bản Đại Học Quốc Gia Hà Nội  \n",
       "\n",
       "[3064 rows x 5 columns]"
      ]
     },
     "execution_count": 5,
     "metadata": {},
     "output_type": "execute_result"
    }
   ],
   "source": [
    "X_train"
   ]
  },
  {
   "cell_type": "code",
   "execution_count": 6,
   "metadata": {},
   "outputs": [
    {
     "name": "stdout",
     "output_type": "stream",
     "text": [
      "(3064, 5)          categories   publisher_vn     book_cover  number_of_page  \\\n",
      "3142  177550.865403  146753.719575  141483.233209             360   \n",
      "3263  159453.944781  146753.719575  141483.233209             264   \n",
      "829   100696.923096  105234.412971  141483.233209              31   \n",
      "700   131412.820537  163476.923221  141483.233209             556   \n",
      "3779  162966.011930  188453.846443  141483.233209             192   \n",
      "...             ...            ...            ...             ...   \n",
      "1130  192190.446659  123287.044550  141483.233209             327   \n",
      "1294  185118.414936  112953.846443  141483.233209             204   \n",
      "860   150237.428252  119494.230805  141483.233209             396   \n",
      "3507  115283.076940  158884.835170  141483.233209             152   \n",
      "3174  150169.230805  159453.846443  141483.233209             120   \n",
      "\n",
      "       manufacturer  \n",
      "3142  152998.557701  \n",
      "3263  152998.557701  \n",
      "829   281648.160560  \n",
      "700   203974.463871  \n",
      "3779  194849.946346  \n",
      "...             ...  \n",
      "1130  140957.577506  \n",
      "1294  160615.908227  \n",
      "860   157428.836088  \n",
      "3507  197488.461611  \n",
      "3174  160615.908227  \n",
      "\n",
      "[3064 rows x 5 columns]\n"
     ]
    }
   ],
   "source": [
    "from category_encoders import MEstimateEncoder\n",
    "\n",
    "# Create the encoder instance. Choose m to control noise.\n",
    "encoder = MEstimateEncoder(cols=['categories',\"publisher_vn\",'book_cover','manufacturer'])\n",
    "\n",
    "# Fit the encoder on the training set.\n",
    "encoder.fit(X_train, y_train)\n",
    "\n",
    "# Encode the  data\n",
    "\n",
    "X_train_encode = encoder.transform(X_train)\n",
    "X_test_encode = encoder.transform(X_test)\n",
    "print(X_train_encode.shape, X_train_encode)\n",
    "\n"
   ]
  },
  {
   "cell_type": "code",
   "execution_count": 7,
   "metadata": {},
   "outputs": [
    {
     "name": "stdout",
     "output_type": "stream",
     "text": [
      "(766, 5)          categories   publisher_vn     book_cover  number_of_page  \\\n",
      "2922  106790.298101  169134.855805  141483.233209             328   \n",
      "3716  208616.849831  156907.692885  305274.464338             620   \n",
      "1964  298946.684360  257927.179526  141483.233209             724   \n",
      "3621  221177.622404  146753.719575  141483.233209             276   \n",
      "1694  268602.564116  211194.924669  141483.233209             476   \n",
      "...             ...            ...            ...             ...   \n",
      "1070  192190.446659  211194.924669  141483.233209             556   \n",
      "2417   52300.037896   59592.414534  141483.233209             192   \n",
      "433   112817.948814  109271.564295  141483.233209              80   \n",
      "807   150237.428252   99144.729366  141483.233209             688   \n",
      "371   133258.299626  159889.903851  141483.233209             145   \n",
      "\n",
      "       manufacturer  \n",
      "2922  195651.065092  \n",
      "3716  203974.463871  \n",
      "1964  140957.577506  \n",
      "3621  152998.557701  \n",
      "1694  192534.760221  \n",
      "...             ...  \n",
      "1070  192534.760221  \n",
      "2417   63211.498400  \n",
      "433   110268.192710  \n",
      "807   128462.647940  \n",
      "371   149164.468878  \n",
      "\n",
      "[766 rows x 5 columns]\n"
     ]
    }
   ],
   "source": [
    "print(X_test_encode.shape, X_test_encode)\n"
   ]
  },
  {
   "attachments": {},
   "cell_type": "markdown",
   "metadata": {},
   "source": [
    "<a id=\"section32\"></a>\n",
    "\n",
    "# SCALING\n"
   ]
  },
  {
   "cell_type": "code",
   "execution_count": 8,
   "metadata": {},
   "outputs": [],
   "source": [
    "from sklearn.preprocessing import StandardScaler\n",
    "# Create a StandardScaler instance\n",
    "scaler = StandardScaler()\n",
    "\n",
    "# Fit the scaler on the training data\n",
    "scaler.fit(X_train_encode)\n",
    "\n",
    "X_train_normalized = scaler.transform(X_train_encode)\n",
    "\n",
    "# Normalize the testing data using the same scaler\n",
    "X_test_normalized = scaler.transform(X_test_encode)\n",
    "\n"
   ]
  },
  {
   "attachments": {},
   "cell_type": "markdown",
   "metadata": {},
   "source": [
    "<a id=\"section41\"></a>\n",
    "# Linear Regression : "
   ]
  },
  {
   "cell_type": "code",
   "execution_count": 9,
   "metadata": {},
   "outputs": [
    {
     "name": "stdout",
     "output_type": "stream",
     "text": [
      "RMSE scores: [86010.72222065 88914.56453534 71216.49616304 90418.80553456\n",
      " 88223.08345698]\n",
      "Mean RMSE: 84956.73438211411\n"
     ]
    }
   ],
   "source": [
    "from sklearn.linear_model import LinearRegression\n",
    "from sklearn.metrics import mean_squared_error\n",
    "from sklearn.model_selection import cross_val_score\n",
    "\n",
    "linRegressor = LinearRegression()\n",
    "\n",
    "scores = cross_val_score(linRegressor, X_train_normalized, y_train, cv=5, scoring='neg_mean_squared_error')\n",
    "\n",
    "# Convert the negative MSE scores to positive RMSE scores\n",
    "rmse_scores = np.sqrt(-scores)\n",
    "\n",
    "# Print the RMSE scores for each fold\n",
    "print(\"RMSE scores:\", rmse_scores)\n",
    "print(\"Mean RMSE:\", rmse_scores.mean())"
   ]
  },
  {
   "attachments": {},
   "cell_type": "markdown",
   "metadata": {},
   "source": [
    "<a id=\"section42\"></a>\n",
    "# Random Forest : "
   ]
  },
  {
   "cell_type": "code",
   "execution_count": 10,
   "metadata": {},
   "outputs": [
    {
     "name": "stderr",
     "output_type": "stream",
     "text": [
      "/usr/local/lib/python3.11/site-packages/sklearn/model_selection/_validation.py:686: DataConversionWarning: A column-vector y was passed when a 1d array was expected. Please change the shape of y to (n_samples,), for example using ravel().\n",
      "  estimator.fit(X_train, y_train, **fit_params)\n",
      "/usr/local/lib/python3.11/site-packages/sklearn/model_selection/_validation.py:686: DataConversionWarning: A column-vector y was passed when a 1d array was expected. Please change the shape of y to (n_samples,), for example using ravel().\n",
      "  estimator.fit(X_train, y_train, **fit_params)\n",
      "/usr/local/lib/python3.11/site-packages/sklearn/model_selection/_validation.py:686: DataConversionWarning: A column-vector y was passed when a 1d array was expected. Please change the shape of y to (n_samples,), for example using ravel().\n",
      "  estimator.fit(X_train, y_train, **fit_params)\n",
      "/usr/local/lib/python3.11/site-packages/sklearn/model_selection/_validation.py:686: DataConversionWarning: A column-vector y was passed when a 1d array was expected. Please change the shape of y to (n_samples,), for example using ravel().\n",
      "  estimator.fit(X_train, y_train, **fit_params)\n",
      "/usr/local/lib/python3.11/site-packages/sklearn/model_selection/_validation.py:686: DataConversionWarning: A column-vector y was passed when a 1d array was expected. Please change the shape of y to (n_samples,), for example using ravel().\n",
      "  estimator.fit(X_train, y_train, **fit_params)\n"
     ]
    },
    {
     "name": "stdout",
     "output_type": "stream",
     "text": [
      "RMSE scores: [83640.68260803 87327.12332847 74192.03021814 87631.80091609\n",
      " 95775.10556408]\n",
      "Mean RMSE: 85713.3485269628\n"
     ]
    }
   ],
   "source": [
    "from sklearn.ensemble import RandomForestRegressor\n",
    "\n",
    "forest_reg = RandomForestRegressor(n_estimators=100, random_state=42)\n",
    "scores = cross_val_score(forest_reg, X_train_normalized, y_train, cv=5, scoring='neg_mean_squared_error')\n",
    "\n",
    "# Convert the negative MSE scores to positive RMSE scores\n",
    "rmse_scores = np.sqrt(-scores)\n",
    "\n",
    "# Print the RMSE scores for each fold\n",
    "print(\"RMSE scores:\", rmse_scores)\n",
    "print(\"Mean RMSE:\", rmse_scores.mean())"
   ]
  },
  {
   "attachments": {},
   "cell_type": "markdown",
   "metadata": {},
   "source": [
    "<a id=\"section51\"></a>\n",
    "\n",
    "# RANDOMIZE SEARCH"
   ]
  },
  {
   "cell_type": "code",
   "execution_count": 11,
   "metadata": {},
   "outputs": [
    {
     "name": "stderr",
     "output_type": "stream",
     "text": [
      "/usr/local/lib/python3.11/site-packages/sklearn/model_selection/_search.py:305: UserWarning: The total space of parameters 1 is smaller than n_iter=10. Running 1 iterations. For exhaustive searches, use GridSearchCV.\n",
      "  warnings.warn(\n",
      "/usr/local/lib/python3.11/site-packages/sklearn/model_selection/_validation.py:686: DataConversionWarning: A column-vector y was passed when a 1d array was expected. Please change the shape of y to (n_samples,), for example using ravel().\n",
      "  estimator.fit(X_train, y_train, **fit_params)\n",
      "/usr/local/lib/python3.11/site-packages/sklearn/model_selection/_validation.py:686: DataConversionWarning: A column-vector y was passed when a 1d array was expected. Please change the shape of y to (n_samples,), for example using ravel().\n",
      "  estimator.fit(X_train, y_train, **fit_params)\n",
      "/usr/local/lib/python3.11/site-packages/sklearn/model_selection/_validation.py:686: DataConversionWarning: A column-vector y was passed when a 1d array was expected. Please change the shape of y to (n_samples,), for example using ravel().\n",
      "  estimator.fit(X_train, y_train, **fit_params)\n",
      "/usr/local/lib/python3.11/site-packages/sklearn/model_selection/_validation.py:686: DataConversionWarning: A column-vector y was passed when a 1d array was expected. Please change the shape of y to (n_samples,), for example using ravel().\n",
      "  estimator.fit(X_train, y_train, **fit_params)\n",
      "/usr/local/lib/python3.11/site-packages/sklearn/model_selection/_validation.py:686: DataConversionWarning: A column-vector y was passed when a 1d array was expected. Please change the shape of y to (n_samples,), for example using ravel().\n",
      "  estimator.fit(X_train, y_train, **fit_params)\n",
      "/usr/local/lib/python3.11/site-packages/sklearn/model_selection/_search.py:909: DataConversionWarning: A column-vector y was passed when a 1d array was expected. Please change the shape of y to (n_samples,), for example using ravel().\n",
      "  self.best_estimator_.fit(X, y, **fit_params)\n"
     ]
    },
    {
     "data": {
      "text/html": [
       "<style>#sk-container-id-1 {color: black;background-color: white;}#sk-container-id-1 pre{padding: 0;}#sk-container-id-1 div.sk-toggleable {background-color: white;}#sk-container-id-1 label.sk-toggleable__label {cursor: pointer;display: block;width: 100%;margin-bottom: 0;padding: 0.3em;box-sizing: border-box;text-align: center;}#sk-container-id-1 label.sk-toggleable__label-arrow:before {content: \"▸\";float: left;margin-right: 0.25em;color: #696969;}#sk-container-id-1 label.sk-toggleable__label-arrow:hover:before {color: black;}#sk-container-id-1 div.sk-estimator:hover label.sk-toggleable__label-arrow:before {color: black;}#sk-container-id-1 div.sk-toggleable__content {max-height: 0;max-width: 0;overflow: hidden;text-align: left;background-color: #f0f8ff;}#sk-container-id-1 div.sk-toggleable__content pre {margin: 0.2em;color: black;border-radius: 0.25em;background-color: #f0f8ff;}#sk-container-id-1 input.sk-toggleable__control:checked~div.sk-toggleable__content {max-height: 200px;max-width: 100%;overflow: auto;}#sk-container-id-1 input.sk-toggleable__control:checked~label.sk-toggleable__label-arrow:before {content: \"▾\";}#sk-container-id-1 div.sk-estimator input.sk-toggleable__control:checked~label.sk-toggleable__label {background-color: #d4ebff;}#sk-container-id-1 div.sk-label input.sk-toggleable__control:checked~label.sk-toggleable__label {background-color: #d4ebff;}#sk-container-id-1 input.sk-hidden--visually {border: 0;clip: rect(1px 1px 1px 1px);clip: rect(1px, 1px, 1px, 1px);height: 1px;margin: -1px;overflow: hidden;padding: 0;position: absolute;width: 1px;}#sk-container-id-1 div.sk-estimator {font-family: monospace;background-color: #f0f8ff;border: 1px dotted black;border-radius: 0.25em;box-sizing: border-box;margin-bottom: 0.5em;}#sk-container-id-1 div.sk-estimator:hover {background-color: #d4ebff;}#sk-container-id-1 div.sk-parallel-item::after {content: \"\";width: 100%;border-bottom: 1px solid gray;flex-grow: 1;}#sk-container-id-1 div.sk-label:hover label.sk-toggleable__label {background-color: #d4ebff;}#sk-container-id-1 div.sk-serial::before {content: \"\";position: absolute;border-left: 1px solid gray;box-sizing: border-box;top: 0;bottom: 0;left: 50%;z-index: 0;}#sk-container-id-1 div.sk-serial {display: flex;flex-direction: column;align-items: center;background-color: white;padding-right: 0.2em;padding-left: 0.2em;position: relative;}#sk-container-id-1 div.sk-item {position: relative;z-index: 1;}#sk-container-id-1 div.sk-parallel {display: flex;align-items: stretch;justify-content: center;background-color: white;position: relative;}#sk-container-id-1 div.sk-item::before, #sk-container-id-1 div.sk-parallel-item::before {content: \"\";position: absolute;border-left: 1px solid gray;box-sizing: border-box;top: 0;bottom: 0;left: 50%;z-index: -1;}#sk-container-id-1 div.sk-parallel-item {display: flex;flex-direction: column;z-index: 1;position: relative;background-color: white;}#sk-container-id-1 div.sk-parallel-item:first-child::after {align-self: flex-end;width: 50%;}#sk-container-id-1 div.sk-parallel-item:last-child::after {align-self: flex-start;width: 50%;}#sk-container-id-1 div.sk-parallel-item:only-child::after {width: 0;}#sk-container-id-1 div.sk-dashed-wrapped {border: 1px dashed gray;margin: 0 0.4em 0.5em 0.4em;box-sizing: border-box;padding-bottom: 0.4em;background-color: white;}#sk-container-id-1 div.sk-label label {font-family: monospace;font-weight: bold;display: inline-block;line-height: 1.2em;}#sk-container-id-1 div.sk-label-container {text-align: center;}#sk-container-id-1 div.sk-container {/* jupyter's `normalize.less` sets `[hidden] { display: none; }` but bootstrap.min.css set `[hidden] { display: none !important; }` so we also need the `!important` here to be able to override the default hidden behavior on the sphinx rendered scikit-learn.org. See: https://github.com/scikit-learn/scikit-learn/issues/21755 */display: inline-block !important;position: relative;}#sk-container-id-1 div.sk-text-repr-fallback {display: none;}</style><div id=\"sk-container-id-1\" class=\"sk-top-container\"><div class=\"sk-text-repr-fallback\"><pre>RandomizedSearchCV(cv=5, estimator=RandomForestRegressor(random_state=42),\n",
       "                   param_distributions={&#x27;max_features&#x27;: [1],\n",
       "                                        &#x27;n_estimators&#x27;: [52]},\n",
       "                   random_state=42, scoring=&#x27;neg_mean_squared_error&#x27;)</pre><b>In a Jupyter environment, please rerun this cell to show the HTML representation or trust the notebook. <br />On GitHub, the HTML representation is unable to render, please try loading this page with nbviewer.org.</b></div><div class=\"sk-container\" hidden><div class=\"sk-item sk-dashed-wrapped\"><div class=\"sk-label-container\"><div class=\"sk-label sk-toggleable\"><input class=\"sk-toggleable__control sk-hidden--visually\" id=\"sk-estimator-id-1\" type=\"checkbox\" ><label for=\"sk-estimator-id-1\" class=\"sk-toggleable__label sk-toggleable__label-arrow\">RandomizedSearchCV</label><div class=\"sk-toggleable__content\"><pre>RandomizedSearchCV(cv=5, estimator=RandomForestRegressor(random_state=42),\n",
       "                   param_distributions={&#x27;max_features&#x27;: [1],\n",
       "                                        &#x27;n_estimators&#x27;: [52]},\n",
       "                   random_state=42, scoring=&#x27;neg_mean_squared_error&#x27;)</pre></div></div></div><div class=\"sk-parallel\"><div class=\"sk-parallel-item\"><div class=\"sk-item\"><div class=\"sk-label-container\"><div class=\"sk-label sk-toggleable\"><input class=\"sk-toggleable__control sk-hidden--visually\" id=\"sk-estimator-id-2\" type=\"checkbox\" ><label for=\"sk-estimator-id-2\" class=\"sk-toggleable__label sk-toggleable__label-arrow\">estimator: RandomForestRegressor</label><div class=\"sk-toggleable__content\"><pre>RandomForestRegressor(random_state=42)</pre></div></div></div><div class=\"sk-serial\"><div class=\"sk-item\"><div class=\"sk-estimator sk-toggleable\"><input class=\"sk-toggleable__control sk-hidden--visually\" id=\"sk-estimator-id-3\" type=\"checkbox\" ><label for=\"sk-estimator-id-3\" class=\"sk-toggleable__label sk-toggleable__label-arrow\">RandomForestRegressor</label><div class=\"sk-toggleable__content\"><pre>RandomForestRegressor(random_state=42)</pre></div></div></div></div></div></div></div></div></div></div>"
      ],
      "text/plain": [
       "RandomizedSearchCV(cv=5, estimator=RandomForestRegressor(random_state=42),\n",
       "                   param_distributions={'max_features': [1],\n",
       "                                        'n_estimators': [52]},\n",
       "                   random_state=42, scoring='neg_mean_squared_error')"
      ]
     },
     "execution_count": 11,
     "metadata": {},
     "output_type": "execute_result"
    }
   ],
   "source": [
    "from sklearn.model_selection import RandomizedSearchCV\n",
    "\n",
    "params = {\n",
    "        'n_estimators': [np.random.randint(low=1, high=100)],\n",
    "        'max_features': [np.random.randint(low=1, high=5)],\n",
    "    }\n",
    "\n",
    "forest_reg = RandomForestRegressor(random_state=42)\n",
    "rnd_search = RandomizedSearchCV(forest_reg, param_distributions=params,\n",
    "                                n_iter=10, cv=5, scoring='neg_mean_squared_error', random_state=42)\n",
    "rnd_search.fit(X_train_normalized, y_train)\n"
   ]
  },
  {
   "attachments": {},
   "cell_type": "markdown",
   "metadata": {},
   "source": []
  },
  {
   "cell_type": "code",
   "execution_count": 12,
   "metadata": {},
   "outputs": [
    {
     "data": {
      "text/plain": [
       "{'n_estimators': 52, 'max_features': 1}"
      ]
     },
     "execution_count": 12,
     "metadata": {},
     "output_type": "execute_result"
    }
   ],
   "source": [
    "rnd_search.best_params_"
   ]
  },
  {
   "cell_type": "code",
   "execution_count": 13,
   "metadata": {},
   "outputs": [
    {
     "name": "stderr",
     "output_type": "stream",
     "text": [
      "/usr/local/lib/python3.11/site-packages/sklearn/model_selection/_validation.py:686: DataConversionWarning: A column-vector y was passed when a 1d array was expected. Please change the shape of y to (n_samples,), for example using ravel().\n",
      "  estimator.fit(X_train, y_train, **fit_params)\n",
      "/usr/local/lib/python3.11/site-packages/sklearn/model_selection/_validation.py:686: DataConversionWarning: A column-vector y was passed when a 1d array was expected. Please change the shape of y to (n_samples,), for example using ravel().\n",
      "  estimator.fit(X_train, y_train, **fit_params)\n",
      "/usr/local/lib/python3.11/site-packages/sklearn/model_selection/_validation.py:686: DataConversionWarning: A column-vector y was passed when a 1d array was expected. Please change the shape of y to (n_samples,), for example using ravel().\n",
      "  estimator.fit(X_train, y_train, **fit_params)\n",
      "/usr/local/lib/python3.11/site-packages/sklearn/model_selection/_validation.py:686: DataConversionWarning: A column-vector y was passed when a 1d array was expected. Please change the shape of y to (n_samples,), for example using ravel().\n",
      "  estimator.fit(X_train, y_train, **fit_params)\n",
      "/usr/local/lib/python3.11/site-packages/sklearn/model_selection/_validation.py:686: DataConversionWarning: A column-vector y was passed when a 1d array was expected. Please change the shape of y to (n_samples,), for example using ravel().\n",
      "  estimator.fit(X_train, y_train, **fit_params)\n"
     ]
    },
    {
     "name": "stdout",
     "output_type": "stream",
     "text": [
      "RMSE scores: [84858.31141495 85106.90452188 69829.65116489 87117.74967399\n",
      " 90226.21622413]\n",
      "Mean RMSE: 83427.76659996875\n"
     ]
    }
   ],
   "source": [
    "forest_reg_tuning = RandomForestRegressor(n_estimators=72, max_features=1 ,random_state=42)\n",
    "scores = cross_val_score(forest_reg_tuning, X_train_normalized, y_train, cv=5, scoring='neg_mean_squared_error')\n",
    "\n",
    "# Convert the negative MSE scores to positive RMSE scores\n",
    "rmse_scores = np.sqrt(-scores)\n",
    "\n",
    "# Print the RMSE scores for each fold\n",
    "print(\"RMSE scores:\", rmse_scores)\n",
    "print(\"Mean RMSE:\", rmse_scores.mean())"
   ]
  },
  {
   "cell_type": "code",
   "execution_count": 15,
   "metadata": {},
   "outputs": [
    {
     "name": "stderr",
     "output_type": "stream",
     "text": [
      "/var/folders/tg/jyzhfxz54nxcpm9d9vgxhg4r0000gn/T/ipykernel_49783/2483737641.py:1: DataConversionWarning: A column-vector y was passed when a 1d array was expected. Please change the shape of y to (n_samples,), for example using ravel().\n",
      "  forest_reg_tuning.fit( X_train_normalized, y_train)\n"
     ]
    },
    {
     "name": "stdout",
     "output_type": "stream",
     "text": [
      "RMSE scores: 641195.3465878738\n",
      "Mean RMSE: 641195.3465878738\n"
     ]
    },
    {
     "name": "stderr",
     "output_type": "stream",
     "text": [
      "/usr/local/lib/python3.11/site-packages/sklearn/base.py:432: UserWarning: X has feature names, but RandomForestRegressor was fitted without feature names\n",
      "  warnings.warn(\n"
     ]
    }
   ],
   "source": [
    "forest_reg_tuning.fit( X_train_normalized, y_train)\n",
    "y_pred = forest_reg_tuning.predict(X_test_encode)\n",
    "mse = mean_squared_error(y_test, y_pred)\n",
    "# Convert the negative MSE scores to positive RMSE scores\n",
    "rmse_scores = np.sqrt(mse)\n",
    "\n",
    "# Print the RMSE scores for each fold\n",
    "print(\"RMSE scores:\", rmse_scores)\n",
    "print(\"Mean RMSE:\", rmse_scores.mean())"
   ]
  },
  {
   "cell_type": "code",
   "execution_count": null,
   "metadata": {},
   "outputs": [],
   "source": []
  }
 ],
 "metadata": {
  "kernelspec": {
   "display_name": "Python 3",
   "language": "python",
   "name": "python3"
  },
  "language_info": {
   "codemirror_mode": {
    "name": "ipython",
    "version": 3
   },
   "file_extension": ".py",
   "mimetype": "text/x-python",
   "name": "python",
   "nbconvert_exporter": "python",
   "pygments_lexer": "ipython3",
   "version": "3.11.3"
  },
  "orig_nbformat": 4
 },
 "nbformat": 4,
 "nbformat_minor": 2
}
