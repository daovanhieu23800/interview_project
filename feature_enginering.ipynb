{
 "cells": [
  {
   "cell_type": "code",
   "execution_count": 53,
   "metadata": {},
   "outputs": [],
   "source": [
    "import pandas as pd\n",
    "import numpy as np\n",
    "from sklearn.model_selection import train_test_split\n",
    "np.random.seed(42)"
   ]
  },
  {
   "attachments": {},
   "cell_type": "markdown",
   "metadata": {},
   "source": [
    "# Table of Contents :\n",
    "* [1. Problem Goal](#section1)\n",
    "* [2. Sampling](#section2)\n",
    "* [3. Feature engineering](#section3)\n",
    "    -  [Target Encodeing](#section31)\n",
    "* [4. Modelling](#section4)\n",
    "    -  [Linear regression](#section41)\n",
    "\n"
   ]
  },
  {
   "attachments": {},
   "cell_type": "markdown",
   "metadata": {},
   "source": [
    "<a id=\"section1\"></a>\n",
    "# Problem Goal : \n",
    "Book price prediction is a task that involves estimating the price of a book based on various factors such as its attributes, market conditions, and historical data. It can be approached as a regression problem, where the goal is to build a predictive model that can accurately predict the price of a book given its features.\n"
   ]
  },
  {
   "attachments": {},
   "cell_type": "markdown",
   "metadata": {},
   "source": [
    "<a id=\"section2\"></a>\n",
    "# SAMPLING:"
   ]
  },
  {
   "cell_type": "code",
   "execution_count": 54,
   "metadata": {},
   "outputs": [
    {
     "name": "stdout",
     "output_type": "stream",
     "text": [
      "(3830, 16)\n"
     ]
    },
    {
     "data": {
      "text/plain": [
       "Index(['id', 'name', 'price', 'original_price', 'discount', 'discount_rate',\n",
       "       'rating_average', 'review_count', 'short_description',\n",
       "       'all_time_quantity_sold', 'authors', 'categories', 'publisher_vn',\n",
       "       'book_cover', 'number_of_page', 'manufacturer'],\n",
       "      dtype='object')"
      ]
     },
     "execution_count": 54,
     "metadata": {},
     "output_type": "execute_result"
    }
   ],
   "source": [
    "book_df = pd.read_csv('cleaned_book.csv')\n",
    "print(book_df.shape)\n",
    "book_df.columns"
   ]
  },
  {
   "cell_type": "code",
   "execution_count": 55,
   "metadata": {},
   "outputs": [],
   "source": [
    "X = book_df[['categories', 'publisher_vn','book_cover', 'number_of_page', 'manufacturer']]\n",
    "y = book_df[['original_price']]\n",
    "test_size = 0.2\n",
    "random_state = 42\n",
    "X_train, X_test, y_train, y_test = train_test_split(X, y, test_size=test_size, random_state=random_state)\n"
   ]
  },
  {
   "cell_type": "code",
   "execution_count": 56,
   "metadata": {},
   "outputs": [
    {
     "name": "stdout",
     "output_type": "stream",
     "text": [
      "(3830, 5) Index(['categories', 'publisher_vn', 'book_cover', 'number_of_page',\n",
      "       'manufacturer'],\n",
      "      dtype='object')\n",
      "(3830, 1) Index(['original_price'], dtype='object')\n",
      "(3064, 5) Index(['categories', 'publisher_vn', 'book_cover', 'number_of_page',\n",
      "       'manufacturer'],\n",
      "      dtype='object')\n",
      "(3064, 1) Index(['original_price'], dtype='object')\n"
     ]
    }
   ],
   "source": [
    "print(X.shape, X.columns)\n",
    "print(y.shape, y.columns)\n",
    "print(X_train.shape, X_train.columns)\n",
    "print(y_train.shape, y_train.columns)"
   ]
  },
  {
   "attachments": {},
   "cell_type": "markdown",
   "metadata": {},
   "source": [
    "<a id=\"section31\"></a>\n",
    "## Target Encodeing: \n"
   ]
  },
  {
   "cell_type": "code",
   "execution_count": 57,
   "metadata": {},
   "outputs": [
    {
     "name": "stdout",
     "output_type": "stream",
     "text": [
      "(3064, 5)          categories   publisher_vn     book_cover  number_of_page  \\\n",
      "3142  177550.865403  146753.719575  141483.233209             360   \n",
      "3263  159453.944781  146753.719575  141483.233209             264   \n",
      "829   100696.923096  105234.412971  141483.233209              31   \n",
      "700   131412.820537  163476.923221  141483.233209             556   \n",
      "3779  162966.011930  188453.846443  141483.233209             192   \n",
      "...             ...            ...            ...             ...   \n",
      "1130  192190.446659  123287.044550  141483.233209             327   \n",
      "1294  185118.414936  112953.846443  141483.233209             204   \n",
      "860   150237.428252  119494.230805  141483.233209             396   \n",
      "3507  115283.076940  158884.835170  141483.233209             152   \n",
      "3174  150169.230805  159453.846443  141483.233209             120   \n",
      "\n",
      "       manufacturer  \n",
      "3142  152998.557701  \n",
      "3263  152998.557701  \n",
      "829   281648.160560  \n",
      "700   203974.463871  \n",
      "3779  194849.946346  \n",
      "...             ...  \n",
      "1130  140957.577506  \n",
      "1294  160615.908227  \n",
      "860   157428.836088  \n",
      "3507  197488.461611  \n",
      "3174  160615.908227  \n",
      "\n",
      "[3064 rows x 5 columns]\n"
     ]
    }
   ],
   "source": [
    "from category_encoders import MEstimateEncoder\n",
    "\n",
    "# Create the encoder instance. Choose m to control noise.\n",
    "encoder = MEstimateEncoder(cols=['categories',\"publisher_vn\",'book_cover','manufacturer'])\n",
    "\n",
    "# Fit the encoder on the training set.\n",
    "encoder.fit(X_train, y_train)\n",
    "\n",
    "# Encode the  data\n",
    "\n",
    "X_train_encode = encoder.transform(X_train)\n",
    "X_test_encode = encoder.transform(X_test)\n",
    "print(X_train_encode.shape, X_train_encode)\n",
    "\n"
   ]
  },
  {
   "cell_type": "code",
   "execution_count": 58,
   "metadata": {},
   "outputs": [
    {
     "name": "stdout",
     "output_type": "stream",
     "text": [
      "(766, 5)          categories   publisher_vn     book_cover  number_of_page  \\\n",
      "2922  106790.298101  169134.855805  141483.233209             328   \n",
      "3716  208616.849831  156907.692885  305274.464338             620   \n",
      "1964  298946.684360  257927.179526  141483.233209             724   \n",
      "3621  221177.622404  146753.719575  141483.233209             276   \n",
      "1694  268602.564116  211194.924669  141483.233209             476   \n",
      "...             ...            ...            ...             ...   \n",
      "1070  192190.446659  211194.924669  141483.233209             556   \n",
      "2417   52300.037896   59592.414534  141483.233209             192   \n",
      "433   112817.948814  109271.564295  141483.233209              80   \n",
      "807   150237.428252   99144.729366  141483.233209             688   \n",
      "371   133258.299626  159889.903851  141483.233209             145   \n",
      "\n",
      "       manufacturer  \n",
      "2922  195651.065092  \n",
      "3716  203974.463871  \n",
      "1964  140957.577506  \n",
      "3621  152998.557701  \n",
      "1694  192534.760221  \n",
      "...             ...  \n",
      "1070  192534.760221  \n",
      "2417   63211.498400  \n",
      "433   110268.192710  \n",
      "807   128462.647940  \n",
      "371   149164.468878  \n",
      "\n",
      "[766 rows x 5 columns]\n"
     ]
    }
   ],
   "source": [
    "print(X_test_encode.shape, X_test_encode)\n"
   ]
  },
  {
   "attachments": {},
   "cell_type": "markdown",
   "metadata": {},
   "source": [
    "<a id=\"section41\"></a>\n",
    "# Linear Regression : "
   ]
  },
  {
   "cell_type": "code",
   "execution_count": 59,
   "metadata": {},
   "outputs": [
    {
     "name": "stdout",
     "output_type": "stream",
     "text": [
      "Mean Squared Error: 7135861691.474946\n"
     ]
    }
   ],
   "source": [
    "from sklearn.linear_model import LinearRegression\n",
    "from sklearn.metrics import mean_squared_error\n",
    "\n",
    "regressor = LinearRegression()\n",
    "\n",
    "# Fit the model on the training data\n",
    "regressor.fit(X_train_encode, y_train)\n",
    "\n",
    "# Predict on the test set\n",
    "y_predict = regressor.predict(X_test_encode)\n",
    "\n",
    "# Calculate mean squared error\n",
    "mse = mean_squared_error(y_test, y_predict)\n",
    "\n",
    "print('Mean Squared Error:', mse)"
   ]
  },
  {
   "attachments": {},
   "cell_type": "markdown",
   "metadata": {},
   "source": []
  }
 ],
 "metadata": {
  "kernelspec": {
   "display_name": "Python 3",
   "language": "python",
   "name": "python3"
  },
  "language_info": {
   "codemirror_mode": {
    "name": "ipython",
    "version": 3
   },
   "file_extension": ".py",
   "mimetype": "text/x-python",
   "name": "python",
   "nbconvert_exporter": "python",
   "pygments_lexer": "ipython3",
   "version": "3.11.3"
  },
  "orig_nbformat": 4
 },
 "nbformat": 4,
 "nbformat_minor": 2
}
