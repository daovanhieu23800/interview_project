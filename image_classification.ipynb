{
 "cells": [
  {
   "attachments": {},
   "cell_type": "markdown",
   "metadata": {},
   "source": [
    "# Table of Contents :\n",
    "* [1. Problem Introduction](#section1)\n",
    "* [2. Data preprocessing](#section2)\n",
    "* [3. Modelling](#section3)\n",
    "    - [SVC](#section31)\n",
    "    - [Transfer learning with VGG16](#section32)\n",
    "  \n",
    "\n",
    "\n"
   ]
  },
  {
   "attachments": {},
   "cell_type": "markdown",
   "metadata": {},
   "source": [
    "<a id=\"section1\"></a>\n",
    "## Introduction :\n",
    "<p style=\"font-size:15px; font-family:verdana; line-height: 1.7em\">We are given a dataset about various books category and their picture. \n",
    "We will classification book into right categories</p>"
   ]
  },
  {
   "cell_type": "code",
   "execution_count": 41,
   "metadata": {},
   "outputs": [],
   "source": [
    "import os\n",
    "import matplotlib.pyplot as plt\n",
    "import numpy as np\n",
    "import cv2\n"
   ]
  },
  {
   "attachments": {},
   "cell_type": "markdown",
   "metadata": {},
   "source": [
    "<a id=\"section2\"></a>\n",
    "## Data Preprocessing :\n"
   ]
  },
  {
   "cell_type": "code",
   "execution_count": 42,
   "metadata": {},
   "outputs": [],
   "source": [
    "images = []\n",
    "targets =[]\n",
    "flatten_img = []"
   ]
  },
  {
   "cell_type": "code",
   "execution_count": 43,
   "metadata": {},
   "outputs": [],
   "source": [
    "DATADIR = './images'\n",
    "CATS = [\"Sách_Giáo_Khoa_Cấp_1\",\"Sách_Giáo_Khoa_Cấp_2\",\"Sách_Giáo_Khoa_Cấp_3\"]\n",
    "for cat in CATS:\n",
    "    class_num = CATS.index(cat)\n",
    "    path = os.path.join(DATADIR, cat)\n",
    "    #print(path)\n",
    "    for item in os.listdir(path):\n",
    "        img =cv2.imread(os.path.join(path, item), 1)\n",
    "        #print(img.shape)\n",
    "        # plt.imshow(img)\n",
    "        # plt.show()\n",
    "        #print(item)\n",
    "        flatten_img.append(img.flatten())\n",
    "        images.append(img)\n",
    "        targets.append(class_num)"
   ]
  },
  {
   "cell_type": "code",
   "execution_count": 59,
   "metadata": {},
   "outputs": [
    {
     "name": "stdout",
     "output_type": "stream",
     "text": [
      "(100, 280, 200, 3)\n",
      "(100,)\n",
      "(100, 168000)\n"
     ]
    }
   ],
   "source": [
    "images_np = np.array(images, dtype=np.float32)\n",
    "targets_np = np.array(targets, dtype=np.float32)\n",
    "flatten_img_np =  np.array(flatten_img, dtype=np.float32)\n",
    "print(images_np.shape)\n",
    "print(targets_np.shape)\n",
    "print(flatten_img_np.shape)"
   ]
  },
  {
   "attachments": {},
   "cell_type": "markdown",
   "metadata": {},
   "source": [
    "<a id=\"section3\"></a>\n",
    "## Modelling :\n"
   ]
  },
  {
   "cell_type": "code",
   "execution_count": 69,
   "metadata": {},
   "outputs": [],
   "source": [
    "from sklearn.model_selection import train_test_split\n",
    "\n",
    "X_train, X_test, y_train, y_test = train_test_split(flatten_img_np, targets, test_size=0.2, random_state=42)"
   ]
  },
  {
   "cell_type": "code",
   "execution_count": 63,
   "metadata": {},
   "outputs": [],
   "source": [
    "y_train = np.array(y_train)\n",
    "y_test = np.array(y_test)"
   ]
  },
  {
   "attachments": {},
   "cell_type": "markdown",
   "metadata": {},
   "source": [
    "<a id=\"section31\"></a>\n",
    "## SVC :\n"
   ]
  },
  {
   "cell_type": "code",
   "execution_count": 47,
   "metadata": {},
   "outputs": [
    {
     "data": {
      "text/html": [
       "<style>#sk-container-id-3 {color: black;background-color: white;}#sk-container-id-3 pre{padding: 0;}#sk-container-id-3 div.sk-toggleable {background-color: white;}#sk-container-id-3 label.sk-toggleable__label {cursor: pointer;display: block;width: 100%;margin-bottom: 0;padding: 0.3em;box-sizing: border-box;text-align: center;}#sk-container-id-3 label.sk-toggleable__label-arrow:before {content: \"▸\";float: left;margin-right: 0.25em;color: #696969;}#sk-container-id-3 label.sk-toggleable__label-arrow:hover:before {color: black;}#sk-container-id-3 div.sk-estimator:hover label.sk-toggleable__label-arrow:before {color: black;}#sk-container-id-3 div.sk-toggleable__content {max-height: 0;max-width: 0;overflow: hidden;text-align: left;background-color: #f0f8ff;}#sk-container-id-3 div.sk-toggleable__content pre {margin: 0.2em;color: black;border-radius: 0.25em;background-color: #f0f8ff;}#sk-container-id-3 input.sk-toggleable__control:checked~div.sk-toggleable__content {max-height: 200px;max-width: 100%;overflow: auto;}#sk-container-id-3 input.sk-toggleable__control:checked~label.sk-toggleable__label-arrow:before {content: \"▾\";}#sk-container-id-3 div.sk-estimator input.sk-toggleable__control:checked~label.sk-toggleable__label {background-color: #d4ebff;}#sk-container-id-3 div.sk-label input.sk-toggleable__control:checked~label.sk-toggleable__label {background-color: #d4ebff;}#sk-container-id-3 input.sk-hidden--visually {border: 0;clip: rect(1px 1px 1px 1px);clip: rect(1px, 1px, 1px, 1px);height: 1px;margin: -1px;overflow: hidden;padding: 0;position: absolute;width: 1px;}#sk-container-id-3 div.sk-estimator {font-family: monospace;background-color: #f0f8ff;border: 1px dotted black;border-radius: 0.25em;box-sizing: border-box;margin-bottom: 0.5em;}#sk-container-id-3 div.sk-estimator:hover {background-color: #d4ebff;}#sk-container-id-3 div.sk-parallel-item::after {content: \"\";width: 100%;border-bottom: 1px solid gray;flex-grow: 1;}#sk-container-id-3 div.sk-label:hover label.sk-toggleable__label {background-color: #d4ebff;}#sk-container-id-3 div.sk-serial::before {content: \"\";position: absolute;border-left: 1px solid gray;box-sizing: border-box;top: 0;bottom: 0;left: 50%;z-index: 0;}#sk-container-id-3 div.sk-serial {display: flex;flex-direction: column;align-items: center;background-color: white;padding-right: 0.2em;padding-left: 0.2em;position: relative;}#sk-container-id-3 div.sk-item {position: relative;z-index: 1;}#sk-container-id-3 div.sk-parallel {display: flex;align-items: stretch;justify-content: center;background-color: white;position: relative;}#sk-container-id-3 div.sk-item::before, #sk-container-id-3 div.sk-parallel-item::before {content: \"\";position: absolute;border-left: 1px solid gray;box-sizing: border-box;top: 0;bottom: 0;left: 50%;z-index: -1;}#sk-container-id-3 div.sk-parallel-item {display: flex;flex-direction: column;z-index: 1;position: relative;background-color: white;}#sk-container-id-3 div.sk-parallel-item:first-child::after {align-self: flex-end;width: 50%;}#sk-container-id-3 div.sk-parallel-item:last-child::after {align-self: flex-start;width: 50%;}#sk-container-id-3 div.sk-parallel-item:only-child::after {width: 0;}#sk-container-id-3 div.sk-dashed-wrapped {border: 1px dashed gray;margin: 0 0.4em 0.5em 0.4em;box-sizing: border-box;padding-bottom: 0.4em;background-color: white;}#sk-container-id-3 div.sk-label label {font-family: monospace;font-weight: bold;display: inline-block;line-height: 1.2em;}#sk-container-id-3 div.sk-label-container {text-align: center;}#sk-container-id-3 div.sk-container {/* jupyter's `normalize.less` sets `[hidden] { display: none; }` but bootstrap.min.css set `[hidden] { display: none !important; }` so we also need the `!important` here to be able to override the default hidden behavior on the sphinx rendered scikit-learn.org. See: https://github.com/scikit-learn/scikit-learn/issues/21755 */display: inline-block !important;position: relative;}#sk-container-id-3 div.sk-text-repr-fallback {display: none;}</style><div id=\"sk-container-id-3\" class=\"sk-top-container\"><div class=\"sk-text-repr-fallback\"><pre>GridSearchCV(cv=5, estimator=SVC(),\n",
       "             param_grid=[{&#x27;C&#x27;: [1, 10, 100, 1000], &#x27;kernel&#x27;: [&#x27;linear&#x27;]},\n",
       "                         {&#x27;C&#x27;: [1, 10, 100, 1000], &#x27;gamma&#x27;: [0.001, 0.0001],\n",
       "                          &#x27;kernel&#x27;: [&#x27;rbf&#x27;]}],\n",
       "             scoring=&#x27;accuracy&#x27;)</pre><b>In a Jupyter environment, please rerun this cell to show the HTML representation or trust the notebook. <br />On GitHub, the HTML representation is unable to render, please try loading this page with nbviewer.org.</b></div><div class=\"sk-container\" hidden><div class=\"sk-item sk-dashed-wrapped\"><div class=\"sk-label-container\"><div class=\"sk-label sk-toggleable\"><input class=\"sk-toggleable__control sk-hidden--visually\" id=\"sk-estimator-id-7\" type=\"checkbox\" ><label for=\"sk-estimator-id-7\" class=\"sk-toggleable__label sk-toggleable__label-arrow\">GridSearchCV</label><div class=\"sk-toggleable__content\"><pre>GridSearchCV(cv=5, estimator=SVC(),\n",
       "             param_grid=[{&#x27;C&#x27;: [1, 10, 100, 1000], &#x27;kernel&#x27;: [&#x27;linear&#x27;]},\n",
       "                         {&#x27;C&#x27;: [1, 10, 100, 1000], &#x27;gamma&#x27;: [0.001, 0.0001],\n",
       "                          &#x27;kernel&#x27;: [&#x27;rbf&#x27;]}],\n",
       "             scoring=&#x27;accuracy&#x27;)</pre></div></div></div><div class=\"sk-parallel\"><div class=\"sk-parallel-item\"><div class=\"sk-item\"><div class=\"sk-label-container\"><div class=\"sk-label sk-toggleable\"><input class=\"sk-toggleable__control sk-hidden--visually\" id=\"sk-estimator-id-8\" type=\"checkbox\" ><label for=\"sk-estimator-id-8\" class=\"sk-toggleable__label sk-toggleable__label-arrow\">estimator: SVC</label><div class=\"sk-toggleable__content\"><pre>SVC()</pre></div></div></div><div class=\"sk-serial\"><div class=\"sk-item\"><div class=\"sk-estimator sk-toggleable\"><input class=\"sk-toggleable__control sk-hidden--visually\" id=\"sk-estimator-id-9\" type=\"checkbox\" ><label for=\"sk-estimator-id-9\" class=\"sk-toggleable__label sk-toggleable__label-arrow\">SVC</label><div class=\"sk-toggleable__content\"><pre>SVC()</pre></div></div></div></div></div></div></div></div></div></div>"
      ],
      "text/plain": [
       "GridSearchCV(cv=5, estimator=SVC(),\n",
       "             param_grid=[{'C': [1, 10, 100, 1000], 'kernel': ['linear']},\n",
       "                         {'C': [1, 10, 100, 1000], 'gamma': [0.001, 0.0001],\n",
       "                          'kernel': ['rbf']}],\n",
       "             scoring='accuracy')"
      ]
     },
     "execution_count": 47,
     "metadata": {},
     "output_type": "execute_result"
    }
   ],
   "source": [
    "from sklearn import svm\n",
    "from sklearn.model_selection import GridSearchCV,cross_val_score\n",
    "\n",
    "param_grid = [\n",
    "    {'C':[1,10,100,1000], 'kernel':[\"linear\"]},\n",
    "    {'C':[1,10,100,1000], 'gamma':[0.001, 0.0001] ,'kernel':[\"rbf\"]}\n",
    "]\n",
    "svc = svm.SVC()\n",
    "grid_search = GridSearchCV(svc, param_grid, cv=5, scoring='accuracy')\n",
    "\n",
    "grid_search.fit(X_train,y_train)\n"
   ]
  },
  {
   "cell_type": "code",
   "execution_count": 50,
   "metadata": {},
   "outputs": [
    {
     "name": "stdout",
     "output_type": "stream",
     "text": [
      "0.5 {'C': 1, 'kernel': 'linear'}\n",
      "0.5 {'C': 10, 'kernel': 'linear'}\n",
      "0.5 {'C': 100, 'kernel': 'linear'}\n",
      "0.5 {'C': 1000, 'kernel': 'linear'}\n",
      "0.4375 {'C': 1, 'gamma': 0.001, 'kernel': 'rbf'}\n",
      "0.4375 {'C': 1, 'gamma': 0.0001, 'kernel': 'rbf'}\n",
      "0.4375 {'C': 10, 'gamma': 0.001, 'kernel': 'rbf'}\n",
      "0.4375 {'C': 10, 'gamma': 0.0001, 'kernel': 'rbf'}\n",
      "0.4375 {'C': 100, 'gamma': 0.001, 'kernel': 'rbf'}\n",
      "0.4375 {'C': 100, 'gamma': 0.0001, 'kernel': 'rbf'}\n",
      "0.4375 {'C': 1000, 'gamma': 0.001, 'kernel': 'rbf'}\n",
      "0.4375 {'C': 1000, 'gamma': 0.0001, 'kernel': 'rbf'}\n"
     ]
    }
   ],
   "source": [
    "results = grid_search.cv_results_\n",
    "for mean_score, params in zip(results[\"mean_test_score\"], results[\"params\"]):\n",
    "    print(mean_score, params)"
   ]
  },
  {
   "cell_type": "code",
   "execution_count": 52,
   "metadata": {},
   "outputs": [
    {
     "name": "stdout",
     "output_type": "stream",
     "text": [
      "[0.5625 0.625  0.4375 0.4375 0.4375]\n"
     ]
    }
   ],
   "source": [
    "from sklearn.metrics import accuracy_score\n",
    "\n",
    "svc_best =  grid_search.best_estimator_\n",
    "\n",
    "cv_scrore = cross_val_score(grid_search.best_estimator_, X_train, y_train, cv=5, scoring='accuracy')\n",
    "print(cv_scrore)"
   ]
  },
  {
   "attachments": {},
   "cell_type": "markdown",
   "metadata": {},
   "source": [
    "<a id=\"section32\"></a>\n",
    "## Transfer learning :"
   ]
  },
  {
   "cell_type": "code",
   "execution_count": 106,
   "metadata": {},
   "outputs": [],
   "source": [
    "# using pretrain model\n",
    "import tensorflow as tf\n",
    "from tensorflow.keras.applications import VGG16\n",
    "from tensorflow.keras.models import Sequential\n",
    "from tensorflow.keras.layers import Flatten, Dense\n",
    "from  tensorflow.keras.utils import to_categorical\n",
    "tf.keras.utils.set_random_seed(42)\n"
   ]
  },
  {
   "cell_type": "code",
   "execution_count": 93,
   "metadata": {},
   "outputs": [],
   "source": [
    "X_train_img, X_test_img, y_train_img, y_test_img = train_test_split(images_np, targets, test_size=0.1, random_state=42)\n",
    "X_train_img, X_val_img, y_train_img, y_val_img = train_test_split(X_train_img, y_train_img, test_size=0.2, random_state=42)\n",
    "\n",
    "y_train_img = to_categorical(y_train_img, 3)\n",
    "y_val_img = to_categorical(y_val_img, 3)\n",
    "y_test_img = to_categorical(y_test_img, 3)\n",
    "y_train_img = np.array(y_train_img)\n",
    "y_test_img = np.array(y_test_img)\n",
    "y_val_img = np.array(y_val_img)"
   ]
  },
  {
   "cell_type": "code",
   "execution_count": 94,
   "metadata": {},
   "outputs": [
    {
     "name": "stdout",
     "output_type": "stream",
     "text": [
      "<class 'numpy.ndarray'> <class 'numpy.ndarray'>\n",
      "<class 'numpy.ndarray'> <class 'numpy.ndarray'>\n",
      "(72, 280, 200, 3) (72, 3) (10, 280, 200, 3) (10, 3) (18, 280, 200, 3) (18, 3)\n"
     ]
    }
   ],
   "source": [
    "print(type(X_train_img), type((y_train_img)))\n",
    "print(type(X_test_img), type((y_test_img)))\n",
    "print(X_train_img.shape, y_train_img.shape, X_test_img.shape, y_test_img.shape, X_val_img.shape, y_val_img.shape)\n"
   ]
  },
  {
   "cell_type": "code",
   "execution_count": 108,
   "metadata": {},
   "outputs": [
    {
     "name": "stdout",
     "output_type": "stream",
     "text": [
      "Epoch 1/5\n",
      "5/5 [==============================] - 13s 3s/step - loss: 43.9866 - accuracy: 0.4444 - val_loss: 22.5316 - val_accuracy: 0.5556\n",
      "Epoch 2/5\n",
      "5/5 [==============================] - 18s 4s/step - loss: 7.7088 - accuracy: 0.8194 - val_loss: 7.4557 - val_accuracy: 0.5556\n",
      "Epoch 3/5\n",
      "5/5 [==============================] - 33s 6s/step - loss: 2.7214 - accuracy: 0.9028 - val_loss: 8.8533 - val_accuracy: 0.6111\n",
      "Epoch 4/5\n",
      "5/5 [==============================] - 27s 6s/step - loss: 0.1073 - accuracy: 0.9722 - val_loss: 7.9902 - val_accuracy: 0.6111\n",
      "Epoch 5/5\n",
      "5/5 [==============================] - 19s 3s/step - loss: 0.3686 - accuracy: 0.9722 - val_loss: 10.1960 - val_accuracy: 0.7778\n"
     ]
    }
   ],
   "source": [
    "\n",
    "\n",
    "base_model = VGG16(weights='imagenet', include_top=False, input_shape=(280,200, 3), classes=3)\n",
    "for layer in base_model.layers:\n",
    "    layer.trainable = False\n",
    "\n",
    "transfer_model = Sequential()\n",
    "transfer_model.add(base_model)\n",
    "\n",
    "transfer_model.add(Flatten())\n",
    "\n",
    "transfer_model.add(Dense(256,activation=\"relu\"))\n",
    "transfer_model.add(Dense(len(CATS),activation=\"softmax\"))\n",
    "\n",
    "transfer_model.compile(optimizer='adam', loss='categorical_crossentropy', metrics=['accuracy'])\n",
    "history  =  transfer_model.fit(X_train_img, y_train_img,batch_size=16, epochs=5, validation_data=(X_val_img, y_val_img))\n",
    "\n",
    "# score = transfer_model.evaluate(X_test_img, y_test_img, verbose=0)\n",
    "# print('train loss:', score[0])\n",
    "# print('test accuracy:', score[1])\n",
    "\n",
    "\n"
   ]
  },
  {
   "cell_type": "code",
   "execution_count": 109,
   "metadata": {},
   "outputs": [
    {
     "data": {
      "image/png": "[encoded data removed]",
      "text/plain": [
       "<Figure size 640x480 with 1 Axes>"
      ]
     },
     "metadata": {},
     "output_type": "display_data"
    }
   ],
   "source": [
    "train_loss = history.history['loss']\n",
    "val_loss = history.history['val_loss']\n",
    "\n",
    "# Create a plot of the loss curves\n",
    "epochs = range(1, len(train_loss) + 1)\n",
    "plt.plot(epochs, train_loss, 'bo-', label='Training Loss')\n",
    "plt.plot(epochs, val_loss, 'go-', label='Validation Loss')\n",
    "plt.title('Training and Validation Loss')\n",
    "plt.xlabel('Epochs')\n",
    "plt.ylabel('Loss')\n",
    "plt.legend()\n",
    "plt.show()"
   ]
  },
  {
   "cell_type": "code",
   "execution_count": 110,
   "metadata": {},
   "outputs": [
    {
     "name": "stdout",
     "output_type": "stream",
     "text": [
      "1/1 [==============================] - 1s 1s/step - loss: 11.1550 - accuracy: 0.6000\n",
      "0.6000000238418579\n"
     ]
    }
   ],
   "source": [
    "loss, accuracy = transfer_model.evaluate(X_test_img, y_test_img)\n",
    "print(accuracy)"
   ]
  },
  {
   "cell_type": "code",
   "execution_count": 113,
   "metadata": {},
   "outputs": [
    {
     "name": "stdout",
     "output_type": "stream",
     "text": [
      "83\n",
      "Sách tiếng Việt               1359\n",
      "Root                          1305\n",
      "Truyện Tranh, Manga, Comic     295\n",
      "Sách Tôn Giáo - Tâm Linh       205\n",
      "Sách tư duy - Kỹ năng sống     156\n",
      "                              ... \n",
      "Tô màu - Luyện chữ               2\n",
      "11.11 Campaign                   1\n",
      "Tranh Truyện                     1\n",
      "Sách tài chính, kế toán          1\n",
      "Từ Điển Tiếng Pháp               1\n",
      "Name: categories, Length: 83, dtype: int64\n"
     ]
    }
   ],
   "source": [
    "import pandas as pd\n",
    "book = pd.read_csv('book.csv')\n",
    "print(len(book['categories'].unique()))\n",
    "print(book['categories'].value_counts())"
   ]
  },
  {
   "cell_type": "code",
   "execution_count": null,
   "metadata": {},
   "outputs": [],
   "source": []
  }
 ],
 "metadata": {
  "kernelspec": {
   "display_name": "Python 3",
   "language": "python",
   "name": "python3"
  },
  "language_info": {
   "codemirror_mode": {
    "name": "ipython",
    "version": 3
   },
   "file_extension": ".py",
   "mimetype": "text/x-python",
   "name": "python",
   "nbconvert_exporter": "python",
   "pygments_lexer": "ipython3",
   "version": "3.11.3"
  },
  "orig_nbformat": 4
 },
 "nbformat": 4,
 "nbformat_minor": 2
}
