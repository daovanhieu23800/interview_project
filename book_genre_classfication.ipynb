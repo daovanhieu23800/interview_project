{
 "cells": [
  {
   "attachments": {},
   "cell_type": "markdown",
   "metadata": {},
   "source": [
    "# Table of Contents :\n",
    "* [1. Introduction](#section1)\n",
    "* [2. Data Exploration](#section2)\n",
    "* [3. Exploratory Data Analysis (EDA)](#section3)\n",
    "* [4.Modelling](#section4)\n",
    "\n"
   ]
  },
  {
   "attachments": {},
   "cell_type": "markdown",
   "metadata": {},
   "source": [
    "<a id=\"section1\"></a>\n",
    "# Problem Introduction:\n",
    "\n",
    "Book genre classification is a specific task within text classification that focuses on categorizing books into different genres or literary categories based on their content. The goal is to automatically assign the appropriate genre label to a given book, enabling automated organization, recommendation systems, and analysis of books.\n",
    "\n"
   ]
  },
  {
   "attachments": {},
   "cell_type": "markdown",
   "metadata": {},
   "source": [
    "<a id=\"section2\"></a>\n",
    "# Data Eploration"
   ]
  },
  {
   "cell_type": "code",
   "execution_count": 31,
   "metadata": {},
   "outputs": [],
   "source": [
    "import pandas as pd\n",
    "pd.set_option('display.max_colwidth', None)"
   ]
  },
  {
   "cell_type": "code",
   "execution_count": 32,
   "metadata": {},
   "outputs": [
    {
     "data": {
      "text/plain": [
       "Index(['id', 'name', 'price', 'original_price', 'discount', 'discount_rate',\n",
       "       'rating_average', 'review_count', 'short_description',\n",
       "       'all_time_quantity_sold', 'authors', 'specifications', 'categories'],\n",
       "      dtype='object')"
      ]
     },
     "execution_count": 32,
     "metadata": {},
     "output_type": "execute_result"
    }
   ],
   "source": [
    "book_df = pd.read_csv(\"book.csv\")\n",
    "book_df.columns"
   ]
  },
  {
   "cell_type": "code",
   "execution_count": 33,
   "metadata": {},
   "outputs": [],
   "source": [
    "book_df = book_df[['name',  'categories' ]]"
   ]
  },
  {
   "cell_type": "code",
   "execution_count": 36,
   "metadata": {},
   "outputs": [
    {
     "data": {
      "text/plain": [
       "0                                                                                                                        Tâm Lý Học Về Tiền\n",
       "1                                                                                      Sách Người Giàu Có Nhất Thành Babylon (Tái Bản 2020)\n",
       "2                                      Storytelling With Data - Kể Chuyện Thông Qua Dữ Liệu (Cuốn Cẩm Nang Hướng Dẫn Trực Quan Hóa Dữ Liệu)\n",
       "3                                                                                                      Sách Nghĩ Giàu Và Làm Giàu (Bìa Mềm)\n",
       "4                                                                                             Quyền Lực Của Địa Lý - The Power Of Geography\n",
       "5                                                                                                           Trải Nghiệm Khách Hàng Xuất Sắc\n",
       "6                             Sách PACE Books - 7 Thói quen hiệu quả (The 7 Habits Of Highly Effective People) (Tái Bản) - Stephen R. Covey\n",
       "7                                                     Chiến Tranh Tiền Tệ - Phần 1 - Ai Thực Sự Là Người Giàu Nhất Thế Giới ( Tái Bản 2022)\n",
       "8                                                                                                            Tư Duy Nhanh Và Chậm (Tái Bản)\n",
       "9    Khởi Nghiệp Bán Lẻ - Bí Quyết Thành Công Và Giàu Có Bằng Những Cửa Hàng Đông Khách - Công Thức Kinh Doanh Và Quản Lý Cửa Hàng Hiệu Quả\n",
       "Name: name, dtype: object"
      ]
     },
     "execution_count": 36,
     "metadata": {},
     "output_type": "execute_result"
    }
   ],
   "source": [
    "\n",
    "book_df['name'].head(10)\n"
   ]
  },
  {
   "cell_type": "code",
   "execution_count": null,
   "metadata": {},
   "outputs": [],
   "source": []
  }
 ],
 "metadata": {
  "kernelspec": {
   "display_name": "Python 3",
   "language": "python",
   "name": "python3"
  },
  "language_info": {
   "codemirror_mode": {
    "name": "ipython",
    "version": 3
   },
   "file_extension": ".py",
   "mimetype": "text/x-python",
   "name": "python",
   "nbconvert_exporter": "python",
   "pygments_lexer": "ipython3",
   "version": "3.11.3"
  },
  "orig_nbformat": 4
 },
 "nbformat": 4,
 "nbformat_minor": 2
}
